{
 "cells": [
  {
   "cell_type": "markdown",
   "id": "b40f324d-cb4e-4c88-b40d-5026231d2c83",
   "metadata": {},
   "source": [
    "# Run `jupyter-notebook .` to open"
   ]
  },
  {
   "cell_type": "code",
   "execution_count": 1,
   "id": "ebf807df-2be6-48d1-9912-0e1205e44ddd",
   "metadata": {},
   "outputs": [
    {
     "name": "stdout",
     "output_type": "stream",
     "text": [
      "Collecting pandas\n",
      "  Downloading pandas-2.2.3-cp313-cp313-win_amd64.whl.metadata (19 kB)\n",
      "Collecting numpy>=1.26.0 (from pandas)\n",
      "  Downloading numpy-2.2.2-cp313-cp313-win_amd64.whl.metadata (60 kB)\n",
      "Requirement already satisfied: python-dateutil>=2.8.2 in c:\\users\\esteban.vergara\\appdata\\local\\programs\\python\\python313\\lib\\site-packages (from pandas) (2.9.0.post0)\n",
      "Collecting pytz>=2020.1 (from pandas)\n",
      "  Downloading pytz-2025.1-py2.py3-none-any.whl.metadata (22 kB)\n",
      "Collecting tzdata>=2022.7 (from pandas)\n",
      "  Downloading tzdata-2025.1-py2.py3-none-any.whl.metadata (1.4 kB)\n",
      "Requirement already satisfied: six>=1.5 in c:\\users\\esteban.vergara\\appdata\\local\\programs\\python\\python313\\lib\\site-packages (from python-dateutil>=2.8.2->pandas) (1.17.0)\n",
      "Downloading pandas-2.2.3-cp313-cp313-win_amd64.whl (11.5 MB)\n",
      "   ---------------------------------------- 0.0/11.5 MB ? eta -:--:--\n",
      "   -- ------------------------------------- 0.8/11.5 MB 3.8 MB/s eta 0:00:03\n",
      "   ------- -------------------------------- 2.1/11.5 MB 5.6 MB/s eta 0:00:02\n",
      "   ---------- ----------------------------- 2.9/11.5 MB 5.3 MB/s eta 0:00:02\n",
      "   ----------- ---------------------------- 3.4/11.5 MB 4.6 MB/s eta 0:00:02\n",
      "   --------------- ------------------------ 4.5/11.5 MB 4.5 MB/s eta 0:00:02\n",
      "   -------------------- ------------------- 5.8/11.5 MB 4.8 MB/s eta 0:00:02\n",
      "   ----------------------- ---------------- 6.8/11.5 MB 4.9 MB/s eta 0:00:01\n",
      "   ------------------------------ --------- 8.7/11.5 MB 5.2 MB/s eta 0:00:01\n",
      "   --------------------------------- ------ 9.7/11.5 MB 5.3 MB/s eta 0:00:01\n",
      "   ---------------------------------------  11.3/11.5 MB 5.5 MB/s eta 0:00:01\n",
      "   ---------------------------------------- 11.5/11.5 MB 5.4 MB/s eta 0:00:00\n",
      "Downloading numpy-2.2.2-cp313-cp313-win_amd64.whl (12.6 MB)\n",
      "   ---------------------------------------- 0.0/12.6 MB ? eta -:--:--\n",
      "   --- ------------------------------------ 1.0/12.6 MB 6.6 MB/s eta 0:00:02\n",
      "   ------- -------------------------------- 2.4/12.6 MB 5.7 MB/s eta 0:00:02\n",
      "   ---------- ----------------------------- 3.4/12.6 MB 5.8 MB/s eta 0:00:02\n",
      "   -------------- ------------------------- 4.7/12.6 MB 5.7 MB/s eta 0:00:02\n",
      "   ------------------- -------------------- 6.0/12.6 MB 5.7 MB/s eta 0:00:02\n",
      "   ----------------------- ---------------- 7.3/12.6 MB 5.7 MB/s eta 0:00:01\n",
      "   --------------------------- ------------ 8.7/12.6 MB 5.8 MB/s eta 0:00:01\n",
      "   ------------------------------ --------- 9.7/12.6 MB 5.7 MB/s eta 0:00:01\n",
      "   --------------------------------- ------ 10.5/12.6 MB 5.5 MB/s eta 0:00:01\n",
      "   ------------------------------------ --- 11.5/12.6 MB 5.5 MB/s eta 0:00:01\n",
      "   ---------------------------------------- 12.6/12.6 MB 5.5 MB/s eta 0:00:00\n",
      "Downloading pytz-2025.1-py2.py3-none-any.whl (507 kB)\n",
      "Downloading tzdata-2025.1-py2.py3-none-any.whl (346 kB)\n",
      "Installing collected packages: pytz, tzdata, numpy, pandas\n",
      "Successfully installed numpy-2.2.2 pandas-2.2.3 pytz-2025.1 tzdata-2025.1\n",
      "Note: you may need to restart the kernel to use updated packages.\n"
     ]
    },
    {
     "name": "stderr",
     "output_type": "stream",
     "text": [
      "\n",
      "[notice] A new release of pip is available: 24.3.1 -> 25.0.1\n",
      "[notice] To update, run: python.exe -m pip install --upgrade pip\n"
     ]
    }
   ],
   "source": [
    "%pip install pandas"
   ]
  },
  {
   "cell_type": "code",
   "execution_count": null,
   "id": "524a9328-dd13-4ade-8fc9-421747062999",
   "metadata": {},
   "outputs": [],
   "source": [
    "import pandas as pd"
   ]
  },
  {
   "cell_type": "code",
   "execution_count": 2,
   "id": "5f0e5034",
   "metadata": {},
   "outputs": [
    {
     "name": "stdout",
     "output_type": "stream",
     "text": [
      "miau\n"
     ]
    }
   ],
   "source": [
    "print(\"miau\")"
   ]
  }
 ],
 "metadata": {
  "kernelspec": {
   "display_name": "Python 3",
   "language": "python",
   "name": "python3"
  },
  "language_info": {
   "codemirror_mode": {
    "name": "ipython",
    "version": 3
   },
   "file_extension": ".py",
   "mimetype": "text/x-python",
   "name": "python",
   "nbconvert_exporter": "python",
   "pygments_lexer": "ipython3",
   "version": "3.13.2"
  }
 },
 "nbformat": 4,
 "nbformat_minor": 5
}
