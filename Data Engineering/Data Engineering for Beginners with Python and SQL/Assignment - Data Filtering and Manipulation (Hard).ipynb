{
 "cells": [
  {
   "cell_type": "markdown",
   "metadata": {},
   "source": [
    "1. How many universities are there in the dataset?\n",
    "\n",
    "2. How many different countries are there?\n",
    "\n",
    "3. What is the distribition of contries in top 100 universities?\n",
    "\n",
    "4. What is the average number of students in top 10 universities?\n",
    "\n",
    "5. Which are the top 10 universities with more than 50% international student?\n",
    "\n",
    "6. Which are the top 10 universities with a predominantly female presence?"
   ]
  },
  {
   "cell_type": "code",
   "execution_count": 2,
   "metadata": {},
   "outputs": [
    {
     "name": "stdout",
     "output_type": "stream",
     "text": [
      "Requirement already satisfied: pandas in c:\\users\\esteban.vergara\\appdata\\local\\programs\\python\\python313\\lib\\site-packages (2.2.3)\n",
      "Requirement already satisfied: numpy>=1.26.0 in c:\\users\\esteban.vergara\\appdata\\local\\programs\\python\\python313\\lib\\site-packages (from pandas) (2.2.2)\n",
      "Requirement already satisfied: python-dateutil>=2.8.2 in c:\\users\\esteban.vergara\\appdata\\local\\programs\\python\\python313\\lib\\site-packages (from pandas) (2.9.0.post0)\n",
      "Requirement already satisfied: pytz>=2020.1 in c:\\users\\esteban.vergara\\appdata\\local\\programs\\python\\python313\\lib\\site-packages (from pandas) (2025.1)\n",
      "Requirement already satisfied: tzdata>=2022.7 in c:\\users\\esteban.vergara\\appdata\\local\\programs\\python\\python313\\lib\\site-packages (from pandas) (2025.1)\n",
      "Requirement already satisfied: six>=1.5 in c:\\users\\esteban.vergara\\appdata\\local\\programs\\python\\python313\\lib\\site-packages (from python-dateutil>=2.8.2->pandas) (1.17.0)\n",
      "Note: you may need to restart the kernel to use updated packages.\n"
     ]
    },
    {
     "name": "stderr",
     "output_type": "stream",
     "text": [
      "\n",
      "[notice] A new release of pip is available: 24.3.1 -> 25.0.1\n",
      "[notice] To update, run: python.exe -m pip install --upgrade pip\n"
     ]
    }
   ],
   "source": [
    "%pip install pandas"
   ]
  },
  {
   "cell_type": "code",
   "execution_count": 3,
   "metadata": {},
   "outputs": [],
   "source": [
    "import pandas as pd"
   ]
  },
  {
   "cell_type": "code",
   "execution_count": 4,
   "metadata": {},
   "outputs": [
    {
     "data": {
      "text/html": [
       "<div>\n",
       "<style scoped>\n",
       "    .dataframe tbody tr th:only-of-type {\n",
       "        vertical-align: middle;\n",
       "    }\n",
       "\n",
       "    .dataframe tbody tr th {\n",
       "        vertical-align: top;\n",
       "    }\n",
       "\n",
       "    .dataframe thead th {\n",
       "        text-align: right;\n",
       "    }\n",
       "</style>\n",
       "<table border=\"1\" class=\"dataframe\">\n",
       "  <thead>\n",
       "    <tr style=\"text-align: right;\">\n",
       "      <th></th>\n",
       "      <th>University Rank</th>\n",
       "      <th>Name of University</th>\n",
       "      <th>Location</th>\n",
       "      <th>No of student</th>\n",
       "      <th>No of student per staff</th>\n",
       "      <th>International Student</th>\n",
       "      <th>Female:Male Ratio</th>\n",
       "      <th>OverAll Score</th>\n",
       "      <th>Teaching Score</th>\n",
       "      <th>Research Score</th>\n",
       "      <th>Citations Score</th>\n",
       "      <th>Industry Income Score</th>\n",
       "      <th>International Outlook Score</th>\n",
       "    </tr>\n",
       "  </thead>\n",
       "  <tbody>\n",
       "    <tr>\n",
       "      <th>0</th>\n",
       "      <td>1</td>\n",
       "      <td>University of Oxford</td>\n",
       "      <td>United Kingdom</td>\n",
       "      <td>20,965</td>\n",
       "      <td>10.6</td>\n",
       "      <td>42%</td>\n",
       "      <td>48 : 52</td>\n",
       "      <td>96.4</td>\n",
       "      <td>92.3</td>\n",
       "      <td>99.7</td>\n",
       "      <td>99.0</td>\n",
       "      <td>74.9</td>\n",
       "      <td>96.2</td>\n",
       "    </tr>\n",
       "    <tr>\n",
       "      <th>1</th>\n",
       "      <td>2</td>\n",
       "      <td>Harvard University</td>\n",
       "      <td>United States</td>\n",
       "      <td>21,887</td>\n",
       "      <td>9.6</td>\n",
       "      <td>25%</td>\n",
       "      <td>50 : 50</td>\n",
       "      <td>95.2</td>\n",
       "      <td>94.8</td>\n",
       "      <td>99.0</td>\n",
       "      <td>99.3</td>\n",
       "      <td>49.5</td>\n",
       "      <td>80.5</td>\n",
       "    </tr>\n",
       "    <tr>\n",
       "      <th>2</th>\n",
       "      <td>3</td>\n",
       "      <td>University of Cambridge</td>\n",
       "      <td>United Kingdom</td>\n",
       "      <td>20,185</td>\n",
       "      <td>11.3</td>\n",
       "      <td>39%</td>\n",
       "      <td>47 : 53</td>\n",
       "      <td>94.8</td>\n",
       "      <td>90.9</td>\n",
       "      <td>99.5</td>\n",
       "      <td>97.0</td>\n",
       "      <td>54.2</td>\n",
       "      <td>95.8</td>\n",
       "    </tr>\n",
       "    <tr>\n",
       "      <th>3</th>\n",
       "      <td>3</td>\n",
       "      <td>Stanford University</td>\n",
       "      <td>United States</td>\n",
       "      <td>16,164</td>\n",
       "      <td>7.1</td>\n",
       "      <td>24%</td>\n",
       "      <td>46 : 54</td>\n",
       "      <td>94.8</td>\n",
       "      <td>94.2</td>\n",
       "      <td>96.7</td>\n",
       "      <td>99.8</td>\n",
       "      <td>65.0</td>\n",
       "      <td>79.8</td>\n",
       "    </tr>\n",
       "    <tr>\n",
       "      <th>4</th>\n",
       "      <td>5</td>\n",
       "      <td>Massachusetts Institute of Technology</td>\n",
       "      <td>United States</td>\n",
       "      <td>11,415</td>\n",
       "      <td>8.2</td>\n",
       "      <td>33%</td>\n",
       "      <td>40 : 60</td>\n",
       "      <td>94.2</td>\n",
       "      <td>90.7</td>\n",
       "      <td>93.6</td>\n",
       "      <td>99.8</td>\n",
       "      <td>90.9</td>\n",
       "      <td>89.3</td>\n",
       "    </tr>\n",
       "    <tr>\n",
       "      <th>...</th>\n",
       "      <td>...</td>\n",
       "      <td>...</td>\n",
       "      <td>...</td>\n",
       "      <td>...</td>\n",
       "      <td>...</td>\n",
       "      <td>...</td>\n",
       "      <td>...</td>\n",
       "      <td>...</td>\n",
       "      <td>...</td>\n",
       "      <td>...</td>\n",
       "      <td>...</td>\n",
       "      <td>...</td>\n",
       "      <td>...</td>\n",
       "    </tr>\n",
       "    <tr>\n",
       "      <th>2336</th>\n",
       "      <td>-</td>\n",
       "      <td>University of the West of Scotland</td>\n",
       "      <td>NaN</td>\n",
       "      <td>NaN</td>\n",
       "      <td>NaN</td>\n",
       "      <td>NaN</td>\n",
       "      <td>NaN</td>\n",
       "      <td>34.0–39.2</td>\n",
       "      <td>24.1</td>\n",
       "      <td>15.5</td>\n",
       "      <td>61.5</td>\n",
       "      <td>37.9</td>\n",
       "      <td>76.8</td>\n",
       "    </tr>\n",
       "    <tr>\n",
       "      <th>2337</th>\n",
       "      <td>-</td>\n",
       "      <td>University of Windsor</td>\n",
       "      <td>NaN</td>\n",
       "      <td>NaN</td>\n",
       "      <td>NaN</td>\n",
       "      <td>NaN</td>\n",
       "      <td>NaN</td>\n",
       "      <td>34.0–39.2</td>\n",
       "      <td>35.1</td>\n",
       "      <td>29.4</td>\n",
       "      <td>34.5</td>\n",
       "      <td>44.2</td>\n",
       "      <td>88.7</td>\n",
       "    </tr>\n",
       "    <tr>\n",
       "      <th>2338</th>\n",
       "      <td>-</td>\n",
       "      <td>University of Wolverhampton</td>\n",
       "      <td>NaN</td>\n",
       "      <td>NaN</td>\n",
       "      <td>NaN</td>\n",
       "      <td>NaN</td>\n",
       "      <td>NaN</td>\n",
       "      <td>34.0–39.2</td>\n",
       "      <td>18.2</td>\n",
       "      <td>14.3</td>\n",
       "      <td>68.8</td>\n",
       "      <td>37.3</td>\n",
       "      <td>72.0</td>\n",
       "    </tr>\n",
       "    <tr>\n",
       "      <th>2339</th>\n",
       "      <td>-</td>\n",
       "      <td>University of Wuppertal</td>\n",
       "      <td>NaN</td>\n",
       "      <td>NaN</td>\n",
       "      <td>NaN</td>\n",
       "      <td>NaN</td>\n",
       "      <td>NaN</td>\n",
       "      <td>34.0–39.2</td>\n",
       "      <td>26.4</td>\n",
       "      <td>26.7</td>\n",
       "      <td>52.8</td>\n",
       "      <td>52.1</td>\n",
       "      <td>47.6</td>\n",
       "    </tr>\n",
       "    <tr>\n",
       "      <th>2340</th>\n",
       "      <td>-</td>\n",
       "      <td>Xi’an Jiaotong-Liverpool University</td>\n",
       "      <td>NaN</td>\n",
       "      <td>NaN</td>\n",
       "      <td>NaN</td>\n",
       "      <td>NaN</td>\n",
       "      <td>NaN</td>\n",
       "      <td>34.0–39.2</td>\n",
       "      <td>17.8</td>\n",
       "      <td>14.8</td>\n",
       "      <td>68.2</td>\n",
       "      <td>38.2</td>\n",
       "      <td>72.4</td>\n",
       "    </tr>\n",
       "  </tbody>\n",
       "</table>\n",
       "<p>2341 rows × 13 columns</p>\n",
       "</div>"
      ],
      "text/plain": [
       "     University Rank                     Name of University        Location  \\\n",
       "0                  1                   University of Oxford  United Kingdom   \n",
       "1                  2                     Harvard University   United States   \n",
       "2                  3                University of Cambridge  United Kingdom   \n",
       "3                  3                    Stanford University   United States   \n",
       "4                  5  Massachusetts Institute of Technology   United States   \n",
       "...              ...                                    ...             ...   \n",
       "2336               -     University of the West of Scotland             NaN   \n",
       "2337               -                  University of Windsor             NaN   \n",
       "2338               -            University of Wolverhampton             NaN   \n",
       "2339               -                University of Wuppertal             NaN   \n",
       "2340               -    Xi’an Jiaotong-Liverpool University             NaN   \n",
       "\n",
       "     No of student  No of student per staff International Student  \\\n",
       "0           20,965                     10.6                   42%   \n",
       "1           21,887                      9.6                   25%   \n",
       "2           20,185                     11.3                   39%   \n",
       "3           16,164                      7.1                   24%   \n",
       "4           11,415                      8.2                   33%   \n",
       "...            ...                      ...                   ...   \n",
       "2336           NaN                      NaN                   NaN   \n",
       "2337           NaN                      NaN                   NaN   \n",
       "2338           NaN                      NaN                   NaN   \n",
       "2339           NaN                      NaN                   NaN   \n",
       "2340           NaN                      NaN                   NaN   \n",
       "\n",
       "     Female:Male Ratio OverAll Score  Teaching Score  Research Score  \\\n",
       "0              48 : 52          96.4            92.3            99.7   \n",
       "1              50 : 50          95.2            94.8            99.0   \n",
       "2              47 : 53          94.8            90.9            99.5   \n",
       "3              46 : 54          94.8            94.2            96.7   \n",
       "4              40 : 60          94.2            90.7            93.6   \n",
       "...                ...           ...             ...             ...   \n",
       "2336               NaN     34.0–39.2            24.1            15.5   \n",
       "2337               NaN     34.0–39.2            35.1            29.4   \n",
       "2338               NaN     34.0–39.2            18.2            14.3   \n",
       "2339               NaN     34.0–39.2            26.4            26.7   \n",
       "2340               NaN     34.0–39.2            17.8            14.8   \n",
       "\n",
       "      Citations Score  Industry Income Score  International Outlook Score  \n",
       "0                99.0                   74.9                         96.2  \n",
       "1                99.3                   49.5                         80.5  \n",
       "2                97.0                   54.2                         95.8  \n",
       "3                99.8                   65.0                         79.8  \n",
       "4                99.8                   90.9                         89.3  \n",
       "...               ...                    ...                          ...  \n",
       "2336             61.5                   37.9                         76.8  \n",
       "2337             34.5                   44.2                         88.7  \n",
       "2338             68.8                   37.3                         72.0  \n",
       "2339             52.8                   52.1                         47.6  \n",
       "2340             68.2                   38.2                         72.4  \n",
       "\n",
       "[2341 rows x 13 columns]"
      ]
     },
     "execution_count": 4,
     "metadata": {},
     "output_type": "execute_result"
    }
   ],
   "source": [
    "df = pd.read_csv('World+University+Rankings+2023.csv')\n",
    "\n",
    "df"
   ]
  },
  {
   "cell_type": "code",
   "execution_count": 5,
   "metadata": {},
   "outputs": [
    {
     "data": {
      "text/plain": [
       "2341"
      ]
     },
     "execution_count": 5,
     "metadata": {},
     "output_type": "execute_result"
    }
   ],
   "source": [
    "# 1. How many universities are there in the dataset?\n",
    "\n",
    "res = len(df)\n",
    "\n",
    "res"
   ]
  },
  {
   "cell_type": "code",
   "execution_count": 6,
   "metadata": {},
   "outputs": [
    {
     "data": {
      "text/plain": [
       "116"
      ]
     },
     "execution_count": 6,
     "metadata": {},
     "output_type": "execute_result"
    }
   ],
   "source": [
    "# 2. How many different countries are there?\n",
    "\n",
    "res = len(df.groupby(\"Location\"))\n",
    "\n",
    "res\n"
   ]
  },
  {
   "cell_type": "code",
   "execution_count": 13,
   "metadata": {},
   "outputs": [
    {
     "data": {
      "text/plain": [
       "Location\n",
       "United States     34\n",
       "United Kingdom     7\n",
       "Germany            6\n",
       "Australia          4\n",
       "France             4\n",
       "Netherlands        4\n",
       "Switzerland        4\n",
       "China              3\n",
       "Canada             2\n",
       "Japan              2\n",
       "South Korea        2\n",
       "Singapore          1\n",
       "Sweden             1\n",
       "Name: Name of University, dtype: int64"
      ]
     },
     "execution_count": 13,
     "metadata": {},
     "output_type": "execute_result"
    }
   ],
   "source": [
    "# 3. What is the distribition of contries in top 100 universities?\n",
    "\n",
    "\n",
    "#filter_ = (df['University Rank'] != \"-\") & (df['University Rank'] <= 100)\n",
    "\n",
    "pos_list = list(map(str, range(0,101)))\n",
    "\n",
    "filter1 = (df['University Rank'].isin(pos_list))\n",
    "dftemp1 = df[filter1]\n",
    "\n",
    "#filter2 = (df['University Rank'] <= 100)\n",
    "#dftemp2 = dftemp1[filter2]\n",
    "\n",
    "res = dftemp1.groupby(\"Location\")['Name of University'].count()\n",
    "\n",
    "res = res.sort_values(ascending=False)\n",
    "\n",
    "res\n",
    "\n"
   ]
  },
  {
   "cell_type": "code",
   "execution_count": 8,
   "metadata": {},
   "outputs": [
    {
     "name": "stderr",
     "output_type": "stream",
     "text": [
      "C:\\Users\\esteban.vergara\\AppData\\Local\\Temp\\ipykernel_16652\\440365936.py:8: SettingWithCopyWarning: \n",
      "A value is trying to be set on a copy of a slice from a DataFrame.\n",
      "Try using .loc[row_indexer,col_indexer] = value instead\n",
      "\n",
      "See the caveats in the documentation: https://pandas.pydata.org/pandas-docs/stable/user_guide/indexing.html#returning-a-view-versus-a-copy\n",
      "  dftemp1['No of student'] = pd.to_numeric(dftemp1['No of student'].str.replace(',', ''))\n"
     ]
    },
    {
     "data": {
      "text/plain": [
       "np.float64(17408.0)"
      ]
     },
     "execution_count": 8,
     "metadata": {},
     "output_type": "execute_result"
    }
   ],
   "source": [
    "# 4.1 What is the average number of students in top 10 universities?\n",
    "\n",
    "pos_list = list(map(str, range(0,11)))\n",
    "\n",
    "filter1 = (df['University Rank'].isin(pos_list))\n",
    "dftemp1 = df[filter1]\n",
    "\n",
    "dftemp1['No of student'] = pd.to_numeric(dftemp1['No of student'].str.replace(',', ''))\n",
    "\n",
    "res = dftemp1['No of student'].mean()\n",
    "\n",
    "res\n"
   ]
  },
  {
   "cell_type": "code",
   "execution_count": 9,
   "metadata": {},
   "outputs": [
    {
     "name": "stdout",
     "output_type": "stream",
     "text": [
      "17408.0\n"
     ]
    }
   ],
   "source": [
    "# 4.2 What is the average number of students in top 10 universities?\n",
    "\n",
    "import pandas as pd\n",
    "\n",
    "# Supongamos que df es tu DataFrame original\n",
    "# df = pd.read_csv('tu_archivo.csv')  # Cargar tu DataFrame\n",
    "\n",
    "# Crear una lista de posiciones (rango de 1 a 10)\n",
    "pos_list = list(map(str, range(1, 11)))  # Cambiado a enteros del 1 al 10\n",
    "\n",
    "# Filtrar las universidades en el rango de 1 a 10\n",
    "filter1 = df['University Rank'].isin(pos_list)\n",
    "dftemp1 = df[filter1]\n",
    "\n",
    "# Eliminar comas y transformar la columna 'No of student' a numérico\n",
    "dftemp1.loc[:, 'No of student'] = pd.to_numeric(dftemp1['No of student'].str.replace(',', ''), errors='coerce')\n",
    "\n",
    "# Calcular el promedio de estudiantes, ignorando valores NaN\n",
    "res = dftemp1['No of student'].mean()\n",
    "\n",
    "print(res)"
   ]
  },
  {
   "cell_type": "code",
   "execution_count": null,
   "metadata": {},
   "outputs": [
    {
     "name": "stdout",
     "output_type": "stream",
     "text": [
      "0    Paris University of International Education\n",
      "1                César Ritz Colleges Switzerland\n",
      "2     Macau University of Science and Technology\n",
      "3                         London Business School\n",
      "4                  Constructor University Bremen\n",
      "5                           Near East University\n",
      "6                    Central European University\n",
      "7                               Ajman University\n",
      "8                      Anglo-American University\n",
      "9                           Royal College of Art\n",
      "Name: Name of University, dtype: object\n"
     ]
    }
   ],
   "source": [
    "# 5. Which are the top 10 universities with more than 50% international student?\n",
    "\n",
    "# Eliminar filas con NaN en la columna 'International Student'\n",
    "df_cleaned = df.dropna(subset=['International Student'])\n",
    "\n",
    "df_cleaned.loc[:, 'International Student'] = pd.to_numeric(df_cleaned['International Student'].str.replace('%', ''), errors='coerce')\n",
    "\n",
    "# Filtrar universidades con más del 50% de estudiantes internacionales\n",
    "top_international_universities = df_cleaned[df_cleaned['International Student'] > 50]\n",
    "\n",
    "# Ordenar por el porcentaje de estudiantes internacionales en orden descendente\n",
    "top_international_universities = top_international_universities.sort_values(by='International Student', ascending=False)\n",
    "\n",
    "# Seleccionar las 10 universidades principales\n",
    "top_10_international_universities = top_international_universities.head(10)\n",
    "\n",
    "top_10_international_universities\n",
    "\n",
    "# que raro, se le manda una lista al indexador...\n",
    "#print(top_10_international_universities[['Name of University', 'International Student']])\n",
    "print(top_10_international_universities['Name of University'].reset_index(drop=True))"
   ]
  },
  {
   "cell_type": "code",
   "execution_count": 22,
   "metadata": {},
   "outputs": [
    {
     "data": {
      "text/plain": [
       "0                         Sugiyama Jogakuen University\n",
       "1     Shaheed Benazir Bhutto Women University Peshawar\n",
       "2                              Nara Women’s University\n",
       "3                          Mukogawa Women’s University\n",
       "4    Université Mohamed El Bachir El Ibrahimi de Bo...\n",
       "5         Government College Women University, Sialkot\n",
       "6                                Banasthali University\n",
       "7                                   Alzahra University\n",
       "8           Lahore College for Women University (LCWU)\n",
       "9          Princess Nourah bint Abdulrahman University\n",
       "Name: Name of University, dtype: object"
      ]
     },
     "execution_count": 22,
     "metadata": {},
     "output_type": "execute_result"
    }
   ],
   "source": [
    "# 6. Which are the top 10 universities with a predominantly female presence?\n",
    "\n",
    "df['Female Ratio'] = df['Female:Male Ratio'].str.split(':').str[0]\n",
    "\n",
    "df['Female Ratio'] = pd.to_numeric(df['Female Ratio'], errors='coerce')\n",
    "\n",
    "df_sorted = df.sort_values(by = 'Female Ratio', ascending=False)\n",
    "\n",
    "df_res = df_sorted.head(10)\n",
    "\n",
    "res = df_res[\"Name of University\"].reset_index(drop=True)\n",
    "\n",
    "res\n"
   ]
  }
 ],
 "metadata": {
  "kernelspec": {
   "display_name": "Python 3",
   "language": "python",
   "name": "python3"
  },
  "language_info": {
   "codemirror_mode": {
    "name": "ipython",
    "version": 3
   },
   "file_extension": ".py",
   "mimetype": "text/x-python",
   "name": "python",
   "nbconvert_exporter": "python",
   "pygments_lexer": "ipython3",
   "version": "3.13.2"
  }
 },
 "nbformat": 4,
 "nbformat_minor": 2
}
